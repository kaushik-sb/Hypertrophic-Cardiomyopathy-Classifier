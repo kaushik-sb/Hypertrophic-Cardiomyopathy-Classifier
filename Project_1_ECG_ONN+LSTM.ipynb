{
  "nbformat": 4,
  "nbformat_minor": 0,
  "metadata": {
    "colab": {
      "provenance": []
    },
    "kernelspec": {
      "name": "python3",
      "display_name": "Python 3"
    },
    "language_info": {
      "name": "python"
    },
  "cells": [
    {
      "cell_type": "code",
      "source": [
        "from google.colab import drive\n",
        "drive.mount('/content/drive')\n"
      ],
      "metadata": {
        "colab": {
          "base_uri": "https://localhost:8080/"
        },
        "id": "5oZws73Eoya2",
        "outputId": "10e8e823-4025-4c10-fa83-65f7cf2137ea"
      },
      "execution_count": 2,
      "outputs": [
        {
          "output_type": "stream",
          "name": "stdout",
          "text": [
            "Mounted at /content/drive\n"
          ]
        }
      ]
    },
    {
      "cell_type": "code",
      "source": [
        "!pip install wfdb scipy scikit-learn numpy pandas matplotlib seaborn\n",
        "!pip install keras-tuner -q"
      ],
      "metadata": {
        "colab": {
          "base_uri": "https://localhost:8080/"
        },
        "id": "PUx-ABQSo1V3",
        "outputId": "36dcd9f0-db18-43c6-e626-e10f6dc95b70"
      },
      "execution_count": 3,
      "outputs": [
        {
          "output_type": "stream",
          "name": "stdout",
          "text": [
            "Collecting wfdb\n",
            "  Downloading wfdb-4.3.0-py3-none-any.whl.metadata (3.8 kB)\n",
            "Requirement already satisfied: scipy in /usr/local/lib/python3.12/dist-packages (1.16.2)\n",
            "Requirement already satisfied: scikit-learn in /usr/local/lib/python3.12/dist-packages (1.6.1)\n",
            "Requirement already satisfied: numpy in /usr/local/lib/python3.12/dist-packages (2.0.2)\n",
            "Requirement already satisfied: pandas in /usr/local/lib/python3.12/dist-packages (2.2.2)\n",
            "Requirement already satisfied: matplotlib in /usr/local/lib/python3.12/dist-packages (3.10.0)\n",
            "Requirement already satisfied: seaborn in /usr/local/lib/python3.12/dist-packages (0.13.2)\n",
            "Requirement already satisfied: aiohttp>=3.10.11 in /usr/local/lib/python3.12/dist-packages (from wfdb) (3.13.0)\n",
            "Requirement already satisfied: fsspec>=2023.10.0 in /usr/local/lib/python3.12/dist-packages (from wfdb) (2025.3.0)\n",
            "Collecting pandas\n",
            "  Downloading pandas-2.3.3-cp312-cp312-manylinux_2_24_x86_64.manylinux_2_28_x86_64.whl.metadata (91 kB)\n",
            "\u001b[2K     \u001b[90m━━━━━━━━━━━━━━━━━━━━━━━━━━━━━━━━━━━━━━━━\u001b[0m \u001b[32m91.2/91.2 kB\u001b[0m \u001b[31m2.1 MB/s\u001b[0m eta \u001b[36m0:00:00\u001b[0m\n",
            "\u001b[?25hRequirement already satisfied: requests>=2.8.1 in /usr/local/lib/python3.12/dist-packages (from wfdb) (2.32.4)\n",
            "Requirement already satisfied: soundfile>=0.10.0 in /usr/local/lib/python3.12/dist-packages (from wfdb) (0.13.1)\n",
            "Requirement already satisfied: joblib>=1.2.0 in /usr/local/lib/python3.12/dist-packages (from scikit-learn) (1.5.2)\n",
            "Requirement already satisfied: threadpoolctl>=3.1.0 in /usr/local/lib/python3.12/dist-packages (from scikit-learn) (3.6.0)\n",
            "Requirement already satisfied: python-dateutil>=2.8.2 in /usr/local/lib/python3.12/dist-packages (from pandas) (2.9.0.post0)\n",
            "Requirement already satisfied: pytz>=2020.1 in /usr/local/lib/python3.12/dist-packages (from pandas) (2025.2)\n",
            "Requirement already satisfied: tzdata>=2022.7 in /usr/local/lib/python3.12/dist-packages (from pandas) (2025.2)\n",
            "Requirement already satisfied: contourpy>=1.0.1 in /usr/local/lib/python3.12/dist-packages (from matplotlib) (1.3.3)\n",
            "Requirement already satisfied: cycler>=0.10 in /usr/local/lib/python3.12/dist-packages (from matplotlib) (0.12.1)\n",
            "Requirement already satisfied: fonttools>=4.22.0 in /usr/local/lib/python3.12/dist-packages (from matplotlib) (4.60.1)\n",
            "Requirement already satisfied: kiwisolver>=1.3.1 in /usr/local/lib/python3.12/dist-packages (from matplotlib) (1.4.9)\n",
            "Requirement already satisfied: packaging>=20.0 in /usr/local/lib/python3.12/dist-packages (from matplotlib) (25.0)\n",
            "Requirement already satisfied: pillow>=8 in /usr/local/lib/python3.12/dist-packages (from matplotlib) (11.3.0)\n",
            "Requirement already satisfied: pyparsing>=2.3.1 in /usr/local/lib/python3.12/dist-packages (from matplotlib) (3.2.5)\n",
            "Requirement already satisfied: aiohappyeyeballs>=2.5.0 in /usr/local/lib/python3.12/dist-packages (from aiohttp>=3.10.11->wfdb) (2.6.1)\n",
            "Requirement already satisfied: aiosignal>=1.4.0 in /usr/local/lib/python3.12/dist-packages (from aiohttp>=3.10.11->wfdb) (1.4.0)\n",
            "Requirement already satisfied: attrs>=17.3.0 in /usr/local/lib/python3.12/dist-packages (from aiohttp>=3.10.11->wfdb) (25.4.0)\n",
            "Requirement already satisfied: frozenlist>=1.1.1 in /usr/local/lib/python3.12/dist-packages (from aiohttp>=3.10.11->wfdb) (1.8.0)\n",
            "Requirement already satisfied: multidict<7.0,>=4.5 in /usr/local/lib/python3.12/dist-packages (from aiohttp>=3.10.11->wfdb) (6.7.0)\n",
            "Requirement already satisfied: propcache>=0.2.0 in /usr/local/lib/python3.12/dist-packages (from aiohttp>=3.10.11->wfdb) (0.3.2)\n",
            "Requirement already satisfied: yarl<2.0,>=1.17.0 in /usr/local/lib/python3.12/dist-packages (from aiohttp>=3.10.11->wfdb) (1.22.0)\n",
            "Requirement already satisfied: six>=1.5 in /usr/local/lib/python3.12/dist-packages (from python-dateutil>=2.8.2->pandas) (1.17.0)\n",
            "Requirement already satisfied: charset_normalizer<4,>=2 in /usr/local/lib/python3.12/dist-packages (from requests>=2.8.1->wfdb) (3.4.3)\n",
            "Requirement already satisfied: idna<4,>=2.5 in /usr/local/lib/python3.12/dist-packages (from requests>=2.8.1->wfdb) (3.10)\n",
            "Requirement already satisfied: urllib3<3,>=1.21.1 in /usr/local/lib/python3.12/dist-packages (from requests>=2.8.1->wfdb) (2.5.0)\n",
            "Requirement already satisfied: certifi>=2017.4.17 in /usr/local/lib/python3.12/dist-packages (from requests>=2.8.1->wfdb) (2025.10.5)\n",
            "Requirement already satisfied: cffi>=1.0 in /usr/local/lib/python3.12/dist-packages (from soundfile>=0.10.0->wfdb) (2.0.0)\n",
            "Requirement already satisfied: typing-extensions>=4.2 in /usr/local/lib/python3.12/dist-packages (from aiosignal>=1.4.0->aiohttp>=3.10.11->wfdb) (4.15.0)\n",
            "Requirement already satisfied: pycparser in /usr/local/lib/python3.12/dist-packages (from cffi>=1.0->soundfile>=0.10.0->wfdb) (2.23)\n",
            "Downloading wfdb-4.3.0-py3-none-any.whl (163 kB)\n",
            "\u001b[2K   \u001b[90m━━━━━━━━━━━━━━━━━━━━━━━━━━━━━━━━━━━━━━━━\u001b[0m \u001b[32m163.8/163.8 kB\u001b[0m \u001b[31m5.7 MB/s\u001b[0m eta \u001b[36m0:00:00\u001b[0m\n",
            "\u001b[?25hDownloading pandas-2.3.3-cp312-cp312-manylinux_2_24_x86_64.manylinux_2_28_x86_64.whl (12.4 MB)\n",
            "\u001b[2K   \u001b[90m━━━━━━━━━━━━━━━━━━━━━━━━━━━━━━━━━━━━━━━━\u001b[0m \u001b[32m12.4/12.4 MB\u001b[0m \u001b[31m83.1 MB/s\u001b[0m eta \u001b[36m0:00:00\u001b[0m\n",
            "\u001b[?25hInstalling collected packages: pandas, wfdb\n",
            "  Attempting uninstall: pandas\n",
            "    Found existing installation: pandas 2.2.2\n",
            "    Uninstalling pandas-2.2.2:\n",
            "      Successfully uninstalled pandas-2.2.2\n",
            "\u001b[31mERROR: pip's dependency resolver does not currently take into account all the packages that are installed. This behaviour is the source of the following dependency conflicts.\n",
            "google-colab 1.0.0 requires pandas==2.2.2, but you have pandas 2.3.3 which is incompatible.\n",
            "dask-cudf-cu12 25.6.0 requires pandas<2.2.4dev0,>=2.0, but you have pandas 2.3.3 which is incompatible.\n",
            "cudf-cu12 25.6.0 requires pandas<2.2.4dev0,>=2.0, but you have pandas 2.3.3 which is incompatible.\u001b[0m\u001b[31m\n",
            "\u001b[0mSuccessfully installed pandas-2.3.3 wfdb-4.3.0\n",
            "\u001b[2K   \u001b[90m━━━━━━━━━━━━━━━━━━━━━━━━━━━━━━━━━━━━━━━━\u001b[0m \u001b[32m129.1/129.1 kB\u001b[0m \u001b[31m3.2 MB/s\u001b[0m eta \u001b[36m0:00:00\u001b[0m\n",
            "\u001b[?25h"
          ]
        }
      ]
    },
    {
      "cell_type": "code",
      "source": [
        "import numpy as np\n",
        "import pandas as pd\n",
        "import os\n",
        "import ast\n",
        "from scipy.signal import resample\n",
        "from sklearn.model_selection import train_test_split\n",
        "from sklearn.preprocessing import StandardScaler, LabelEncoder\n",
        "from sklearn.metrics import accuracy_score, classification_report, confusion_matrix\n",
        "import wfdb\n",
        "import tensorflow as tf\n",
        "from tensorflow.keras.models import Model\n",
        "from tensorflow.keras.layers import Input, LSTM, Dense, Dropout, BatchNormalization\n",
        "from tensorflow.keras.callbacks import EarlyStopping\n",
        "import keras_tuner as kt\n",
        "import warnings\n",
        "warnings.filterwarnings('ignore')"
      ],
      "metadata": {
        "id": "gqvo_XHzW5i7"
      },
      "execution_count": 4,
      "outputs": []
    },
    {
      "cell_type": "code",
      "source": [
        "# --- 1. Data Loading ---\n",
        "athlete_path = '/content/drive/MyDrive/NorwegianAthleteECG'\n",
        "hcm_path = '/content/drive/MyDrive/ptb-xl'\n",
        "\n",
        "def load_athlete_data(data_path):\n",
        "    ecg_data = []\n",
        "    for fname in sorted(os.listdir(data_path)):\n",
        "        if fname.endswith('.dat'):\n",
        "            rec_name = os.path.splitext(fname)[0]\n",
        "            record = wfdb.rdsamp(os.path.join(data_path, rec_name))\n",
        "            ecg_data.append(record[0])\n",
        "    return ecg_data, ['athlete'] * len(ecg_data)\n",
        "\n",
        "def load_hcm_data(data_path, csv_filename='ptbxl_database.csv'):\n",
        "    meta = pd.read_csv(os.path.join(data_path, csv_filename))\n",
        "    hcm_data = []\n",
        "    for _, row in meta.iterrows():\n",
        "        try:\n",
        "            codes = ast.literal_eval(row['scp_codes'])\n",
        "            if any('HYP' in str(code) for code in codes.keys()):\n",
        "                rec_path = os.path.join(data_path, row['filename_hr'])\n",
        "                record = wfdb.rdsamp(rec_path)\n",
        "                hcm_data.append(record[0])\n",
        "        except Exception:\n",
        "            continue\n",
        "    return hcm_data, ['hcm'] * len(hcm_data)"
      ],
      "metadata": {
        "id": "w15R5MCvXjEM"
      },
      "execution_count": 5,
      "outputs": []
    },
    {
      "cell_type": "code",
      "source": [
        "# --- 2. Data Preparation ---\n",
        "athlete_data_list, athlete_labels = load_athlete_data(athlete_path)\n",
        "hcm_data_list, hcm_labels = load_hcm_data(hcm_path)\n",
        "hcm_data_resampled_list = [resample(ecg, 5000, axis=0) for ecg in hcm_data_list]\n",
        "all_data = np.concatenate([np.array(athlete_data_list), np.array(hcm_data_resampled_list)])\n",
        "all_labels = np.concatenate([athlete_labels, hcm_labels])\n",
        "X = all_data\n",
        "label_encoder = LabelEncoder()\n",
        "y = label_encoder.fit_transform(all_labels)\n",
        "X_train, X_test, y_train, y_test = train_test_split(X, y, test_size=0.3, random_state=42, stratify=y)\n",
        "scaler = StandardScaler()\n",
        "X_train_scaled = scaler.fit_transform(X_train.reshape(-1, X_train.shape[-1])).reshape(X_train.shape)\n",
        "X_test_scaled = scaler.transform(X_test.reshape(-1, X_test.shape[-1])).reshape(X_test.shape)\n",
        "print(f\" Data Training shape: {X_train_scaled.shape}\")\n"
      ],
      "metadata": {
        "colab": {
          "base_uri": "https://localhost:8080/"
        },
        "id": "vF7aev6tXqO9",
        "outputId": "6d2c036b-9eeb-4338-d1c9-fb7fe76a9968"
      },
      "execution_count": 6,
      "outputs": [
        {
          "output_type": "stream",
          "name": "stdout",
          "text": [
            " Data Training shape: (39, 5000, 12)\n"
          ]
        }
      ]
    },
    {
      "cell_type": "code",
      "source": [
        "# --- 3. The Hybrid LSTM-ONN Model Definition ---\n",
        "def build_hybrid_model(hp):\n",
        "    # Tunable Hyperparameters\n",
        "    hp_lstm_units = hp.Int('lstm_units', min_value=32, max_value=96, step=32)\n",
        "    hp_dropout = hp.Float('dropout', min_value=0.2, max_value=0.5, step=0.1)\n",
        "    hp_learning_rate = hp.Choice('learning_rate', values=[1e-2, 1e-3])\n",
        "\n",
        "    # --- Part 1: Standard LSTM Feature Extractor ---\n",
        "    input_layer = Input(shape=(X_train_scaled.shape[1], X_train_scaled.shape[2]))\n",
        "    # LSTM processes the sequence and outputs a single feature vector\n",
        "    lstm_output = LSTM(units=hp_lstm_units)(input_layer)\n",
        "    lstm_output = Dropout(hp_dropout)(lstm_output)\n",
        "    lstm_output = BatchNormalization()(lstm_output)\n",
        "\n",
        "    # --- Part 2: Simplified Oscillatory Layer (as a Dense layer) ---\n",
        "    output_layer = Dense(64, activation='relu')(lstm_output)\n",
        "    output_layer = Dense(1, activation='sigmoid')(output_layer)\n",
        "    model = Model(inputs=input_layer, outputs=output_layer)\n",
        "    model.compile(optimizer=tf.keras.optimizers.Adam(learning_rate=hp_learning_rate),\n",
        "                  loss='binary_crossentropy',\n",
        "                  metrics=['accuracy'])\n",
        "    return model"
      ],
      "metadata": {
        "id": "-l5-wOC5Xt_v"
      },
      "execution_count": 7,
      "outputs": []
    },
    {
      "cell_type": "code",
      "source": [
        "# --- 4. Hyperparameter Search ---\n",
        "tuner = kt.Hyperband(build_hybrid_model,\n",
        "                     objective='val_accuracy',\n",
        "                     max_epochs=25,\n",
        "                     factor=3,\n",
        "                     directory='my_dir',\n",
        "                     project_name='ecg_hybrid_tuning')\n",
        "\n",
        "stop_early = EarlyStopping(monitor='val_loss', patience=7, restore_best_weights=True)\n",
        "tuner.search(X_train_scaled, y_train, epochs=50, validation_split=0.2, callbacks=[stop_early])\n",
        "\n",
        "best_hps = tuner.get_best_hyperparameters(num_trials=1)[0]\n",
        "print(f\"\"\"\n",
        "Optimal parameters for Hybrid Model:\n",
        "- LSTM Units: {best_hps.get('lstm_units')}\n",
        "- Dropout Rate: {best_hps.get('dropout'):.2f}\n",
        "- Learning Rate: {best_hps.get('learning_rate')}\n",
        "\"\"\")"
      ],
      "metadata": {
        "colab": {
          "base_uri": "https://localhost:8080/"
        },
        "id": "pcjPfG90FmO0",
        "outputId": "5955c1af-3c33-4824-dcd7-b6e8a4785d92"
      },
      "execution_count": 8,
      "outputs": [
        {
          "output_type": "stream",
          "name": "stdout",
          "text": [
            "Trial 22 Complete [00h 00m 35s]\n",
            "val_accuracy: 0.875\n",
            "\n",
            "Best val_accuracy So Far: 1.0\n",
            "Total elapsed time: 00h 08m 54s\n",
            "\n",
            "Optimal parameters for Hybrid Model:\n",
            "- LSTM Units: 32\n",
            "- Dropout Rate: 0.40\n",
            "- Learning Rate: 0.01\n",
            "\n"
          ]
        }
      ]
    },
    {
      "cell_type": "code",
      "source": [
        "# --- 5. Train and Evaluate the Final Hybrid Model ---\n",
        "final_model = tuner.hypermodel.build(best_hps)\n",
        "history = final_model.fit(X_train_scaled, y_train, epochs=50, validation_split=0.2, callbacks=[stop_early])\n",
        "loss, accuracy = final_model.evaluate(X_test_scaled, y_test)\n",
        "print(f\"\\n Final Hybrid Model Accuracy: {accuracy:.4f} ({accuracy*100:.2f}%)\")\n",
        "\n",
        "predictions_prob = final_model.predict(X_test_scaled)\n",
        "predictions = (predictions_prob > 0.5).astype(int).flatten()\n",
        "print(\"\\n Classification Report:\")\n",
        "print(classification_report(y_test, predictions, target_names=label_encoder.classes_))\n",
        "print(\"\\n Confusion Matrix:\")\n",
        "print(confusion_matrix(y_test, predictions))"
      ],
      "metadata": {
        "colab": {
          "base_uri": "https://localhost:8080/"
        },
        "id": "UIZ3lQ7mX4W3",
        "outputId": "5394d7f9-0a88-4818-b5de-baef2587a76c"
      },
      "execution_count": 9,
      "outputs": [
        {
          "output_type": "stream",
          "name": "stdout",
          "text": [
            "Epoch 1/50\n",
            "\u001b[1m1/1\u001b[0m \u001b[32m━━━━━━━━━━━━━━━━━━━━\u001b[0m\u001b[37m\u001b[0m \u001b[1m6s\u001b[0m 6s/step - accuracy: 0.5806 - loss: 0.6573 - val_accuracy: 0.8750 - val_loss: 0.4693\n",
            "Epoch 2/50\n",
            "\u001b[1m1/1\u001b[0m \u001b[32m━━━━━━━━━━━━━━━━━━━━\u001b[0m\u001b[37m\u001b[0m \u001b[1m3s\u001b[0m 3s/step - accuracy: 0.9032 - loss: 0.3386 - val_accuracy: 0.8750 - val_loss: 0.3420\n",
            "Epoch 3/50\n",
            "\u001b[1m1/1\u001b[0m \u001b[32m━━━━━━━━━━━━━━━━━━━━\u001b[0m\u001b[37m\u001b[0m \u001b[1m2s\u001b[0m 2s/step - accuracy: 0.9677 - loss: 0.1835 - val_accuracy: 0.8750 - val_loss: 0.2758\n",
            "Epoch 4/50\n",
            "\u001b[1m1/1\u001b[0m \u001b[32m━━━━━━━━━━━━━━━━━━━━\u001b[0m\u001b[37m\u001b[0m \u001b[1m2s\u001b[0m 2s/step - accuracy: 0.9677 - loss: 0.0782 - val_accuracy: 0.8750 - val_loss: 0.2398\n",
            "Epoch 5/50\n",
            "\u001b[1m1/1\u001b[0m \u001b[32m━━━━━━━━━━━━━━━━━━━━\u001b[0m\u001b[37m\u001b[0m \u001b[1m3s\u001b[0m 3s/step - accuracy: 1.0000 - loss: 0.0574 - val_accuracy: 0.8750 - val_loss: 0.2649\n",
            "Epoch 6/50\n",
            "\u001b[1m1/1\u001b[0m \u001b[32m━━━━━━━━━━━━━━━━━━━━\u001b[0m\u001b[37m\u001b[0m \u001b[1m2s\u001b[0m 2s/step - accuracy: 1.0000 - loss: 0.0249 - val_accuracy: 0.8750 - val_loss: 0.2551\n",
            "Epoch 7/50\n",
            "\u001b[1m1/1\u001b[0m \u001b[32m━━━━━━━━━━━━━━━━━━━━\u001b[0m\u001b[37m\u001b[0m \u001b[1m2s\u001b[0m 2s/step - accuracy: 1.0000 - loss: 0.0101 - val_accuracy: 0.8750 - val_loss: 0.2452\n",
            "Epoch 8/50\n",
            "\u001b[1m1/1\u001b[0m \u001b[32m━━━━━━━━━━━━━━━━━━━━\u001b[0m\u001b[37m\u001b[0m \u001b[1m3s\u001b[0m 3s/step - accuracy: 1.0000 - loss: 0.0112 - val_accuracy: 0.8750 - val_loss: 0.2391\n",
            "Epoch 9/50\n",
            "\u001b[1m1/1\u001b[0m \u001b[32m━━━━━━━━━━━━━━━━━━━━\u001b[0m\u001b[37m\u001b[0m \u001b[1m2s\u001b[0m 2s/step - accuracy: 1.0000 - loss: 0.0057 - val_accuracy: 0.8750 - val_loss: 0.2309\n",
            "Epoch 10/50\n",
            "\u001b[1m1/1\u001b[0m \u001b[32m━━━━━━━━━━━━━━━━━━━━\u001b[0m\u001b[37m\u001b[0m \u001b[1m2s\u001b[0m 2s/step - accuracy: 1.0000 - loss: 0.0024 - val_accuracy: 0.8750 - val_loss: 0.2096\n",
            "Epoch 11/50\n",
            "\u001b[1m1/1\u001b[0m \u001b[32m━━━━━━━━━━━━━━━━━━━━\u001b[0m\u001b[37m\u001b[0m \u001b[1m2s\u001b[0m 2s/step - accuracy: 1.0000 - loss: 0.0021 - val_accuracy: 0.8750 - val_loss: 0.1678\n",
            "Epoch 12/50\n",
            "\u001b[1m1/1\u001b[0m \u001b[32m━━━━━━━━━━━━━━━━━━━━\u001b[0m\u001b[37m\u001b[0m \u001b[1m3s\u001b[0m 3s/step - accuracy: 1.0000 - loss: 0.0023 - val_accuracy: 0.8750 - val_loss: 0.1482\n",
            "Epoch 13/50\n",
            "\u001b[1m1/1\u001b[0m \u001b[32m━━━━━━━━━━━━━━━━━━━━\u001b[0m\u001b[37m\u001b[0m \u001b[1m2s\u001b[0m 2s/step - accuracy: 1.0000 - loss: 4.9965e-04 - val_accuracy: 0.8750 - val_loss: 0.1397\n",
            "Epoch 14/50\n",
            "\u001b[1m1/1\u001b[0m \u001b[32m━━━━━━━━━━━━━━━━━━━━\u001b[0m\u001b[37m\u001b[0m \u001b[1m3s\u001b[0m 3s/step - accuracy: 1.0000 - loss: 8.8573e-04 - val_accuracy: 0.8750 - val_loss: 0.1368\n",
            "Epoch 15/50\n",
            "\u001b[1m1/1\u001b[0m \u001b[32m━━━━━━━━━━━━━━━━━━━━\u001b[0m\u001b[37m\u001b[0m \u001b[1m4s\u001b[0m 4s/step - accuracy: 1.0000 - loss: 2.8001e-04 - val_accuracy: 0.8750 - val_loss: 0.1365\n",
            "Epoch 16/50\n",
            "\u001b[1m1/1\u001b[0m \u001b[32m━━━━━━━━━━━━━━━━━━━━\u001b[0m\u001b[37m\u001b[0m \u001b[1m2s\u001b[0m 2s/step - accuracy: 1.0000 - loss: 1.3207e-04 - val_accuracy: 0.8750 - val_loss: 0.1377\n",
            "Epoch 17/50\n",
            "\u001b[1m1/1\u001b[0m \u001b[32m━━━━━━━━━━━━━━━━━━━━\u001b[0m\u001b[37m\u001b[0m \u001b[1m2s\u001b[0m 2s/step - accuracy: 1.0000 - loss: 2.3460e-04 - val_accuracy: 0.8750 - val_loss: 0.1393\n",
            "Epoch 18/50\n",
            "\u001b[1m1/1\u001b[0m \u001b[32m━━━━━━━━━━━━━━━━━━━━\u001b[0m\u001b[37m\u001b[0m \u001b[1m2s\u001b[0m 2s/step - accuracy: 1.0000 - loss: 1.2294e-04 - val_accuracy: 0.8750 - val_loss: 0.1418\n",
            "Epoch 19/50\n",
            "\u001b[1m1/1\u001b[0m \u001b[32m━━━━━━━━━━━━━━━━━━━━\u001b[0m\u001b[37m\u001b[0m \u001b[1m3s\u001b[0m 3s/step - accuracy: 1.0000 - loss: 8.2365e-05 - val_accuracy: 0.8750 - val_loss: 0.1445\n",
            "Epoch 20/50\n",
            "\u001b[1m1/1\u001b[0m \u001b[32m━━━━━━━━━━━━━━━━━━━━\u001b[0m\u001b[37m\u001b[0m \u001b[1m4s\u001b[0m 4s/step - accuracy: 1.0000 - loss: 7.7771e-05 - val_accuracy: 0.8750 - val_loss: 0.1475\n",
            "Epoch 21/50\n",
            "\u001b[1m1/1\u001b[0m \u001b[32m━━━━━━━━━━━━━━━━━━━━\u001b[0m\u001b[37m\u001b[0m \u001b[1m2s\u001b[0m 2s/step - accuracy: 1.0000 - loss: 1.0123e-04 - val_accuracy: 0.8750 - val_loss: 0.1506\n",
            "Epoch 22/50\n",
            "\u001b[1m1/1\u001b[0m \u001b[32m━━━━━━━━━━━━━━━━━━━━\u001b[0m\u001b[37m\u001b[0m \u001b[1m3s\u001b[0m 3s/step - accuracy: 1.0000 - loss: 5.6038e-05 - val_accuracy: 0.8750 - val_loss: 0.1540\n",
            "\u001b[1m1/1\u001b[0m \u001b[32m━━━━━━━━━━━━━━━━━━━━\u001b[0m\u001b[37m\u001b[0m \u001b[1m0s\u001b[0m 370ms/step - accuracy: 0.8889 - loss: 0.6582\n",
            "\n",
            " Final Hybrid Model Accuracy: 0.8889 (88.89%)\n",
            "\u001b[1m1/1\u001b[0m \u001b[32m━━━━━━━━━━━━━━━━━━━━\u001b[0m\u001b[37m\u001b[0m \u001b[1m1s\u001b[0m 701ms/step\n",
            "\n",
            " Classification Report:\n",
            "              precision    recall  f1-score   support\n",
            "\n",
            "     athlete       1.00      0.78      0.88         9\n",
            "         hcm       0.82      1.00      0.90         9\n",
            "\n",
            "    accuracy                           0.89        18\n",
            "   macro avg       0.91      0.89      0.89        18\n",
            "weighted avg       0.91      0.89      0.89        18\n",
            "\n",
            "\n",
            " Confusion Matrix:\n",
            "[[7 2]\n",
            " [0 9]]\n"
          ]
        }
      ]
    },
    {
      "cell_type": "code",
      "source": [
        "# --- 6. Original pure ONN model (low accuracy) ---\n",
        "\n",
        "import numpy as np\n",
        "import pandas as pd\n",
        "import os\n",
        "import ast\n",
        "import random\n",
        "from scipy.signal import resample\n",
        "from sklearn.model_selection import train_test_split\n",
        "from sklearn.preprocessing import StandardScaler, LabelEncoder\n",
        "from sklearn.metrics import accuracy_score, classification_report, confusion_matrix\n",
        "import wfdb\n",
        "import warnings\n",
        "from tqdm.notebook import tqdm\n",
        "\n",
        "warnings.filterwarnings('ignore')\n",
        "\n",
        "# --- 1. Data Loading (Same as before) ---\n",
        "athlete_path = '/content/drive/MyDrive/NorwegianAthleteECG'\n",
        "hcm_path = '/content/drive/MyDrive/ptb-xl'\n",
        "\n",
        "def load_athlete_data(data_path):\n",
        "    ecg_data = []\n",
        "    for fname in sorted(os.listdir(data_path)):\n",
        "        if fname.endswith('.dat'):\n",
        "            rec_name = os.path.splitext(fname)[0]\n",
        "            record = wfdb.rdsamp(os.path.join(data_path, rec_name))\n",
        "            ecg_data.append(record[0])\n",
        "    return ecg_data, ['athlete'] * len(ecg_data)\n",
        "\n",
        "def load_hcm_data(data_path, csv_filename='ptbxl_database.csv'):\n",
        "    meta = pd.read_csv(os.path.join(data_path, csv_filename))\n",
        "    hcm_data = []\n",
        "    for _, row in meta.iterrows():\n",
        "        try:\n",
        "            codes = ast.literal_eval(row['scp_codes'])\n",
        "            if any('HYP' in str(code) for code in codes.keys()):\n",
        "                rec_path = os.path.join(data_path, row['filename_hr'])\n",
        "                record = wfdb.rdsamp(rec_path)\n",
        "                hcm_data.append(record[0])\n",
        "        except Exception:\n",
        "            continue\n",
        "    return hcm_data, ['hcm'] * len(hcm_data)\n",
        "\n",
        "# --- 2. Data Processing and Preparation (same as before)\n",
        "athlete_data_list, athlete_labels = load_athlete_data(athlete_path)\n",
        "hcm_data_list, hcm_labels = load_hcm_data(hcm_path)\n",
        "hcm_data_resampled_list = [resample(ecg, 5000, axis=0) for ecg in hcm_data_list]\n",
        "all_data = np.concatenate([np.array(athlete_data_list), np.array(hcm_data_resampled_list)])\n",
        "all_labels = np.concatenate([athlete_labels, hcm_labels])\n",
        "X = all_data\n",
        "label_encoder = LabelEncoder()\n",
        "y = label_encoder.fit_transform(all_labels)\n",
        "X_train_full, X_test, y_train_full, y_test = train_test_split(X, y, test_size=0.3, random_state=42, stratify=y)\n",
        "X_train, X_val, y_train, y_val = train_test_split(X_train_full, y_train_full, test_size=0.25, random_state=42, stratify=y_train_full)\n",
        "scaler = StandardScaler()\n",
        "X_train_scaled = scaler.fit_transform(X_train.reshape(-1, X_train.shape[-1])).reshape(X_train.shape)\n",
        "X_val_scaled = scaler.transform(X_val.reshape(-1, X_val.shape[-1])).reshape(X_val.shape)\n",
        "X_test_scaled = scaler.transform(X_test.reshape(-1, X_test.shape[-1])).reshape(X_test.shape)\n",
        "print(f\"✅ Data prepared. Shapes: Train={X_train_scaled.shape}, Val={X_val_scaled.shape}, Test={X_test_scaled.shape}\")\n",
        "\n",
        "\n",
        "# --- 2. The Oscillatory Recurrent Neural Network (ORNN) ---\n",
        "class OscillatoryRNN:\n",
        "    def __init__(self, num_oscillators=8, lr=0.001, alpha=0.01, chunk_size=50):\n",
        "        self.num_oscillators = num_oscillators\n",
        "        self.lr, self.alpha = lr, alpha\n",
        "        self.chunk_size = chunk_size\n",
        "\n",
        "        # RNN weights\n",
        "        self.W_xh = np.random.normal(0, 0.1, (12, num_oscillators)) # Input chunk (12 leads) to hidden (oscillators)\n",
        "        self.W_hh = np.random.normal(0, 0.1, (num_oscillators, num_oscillators))\n",
        "\n",
        "        # Oscillator dynamics parameters\n",
        "        self.frequencies = np.random.uniform(0.5, 1.5, num_oscillators)\n",
        "        self.coupling_matrix = np.random.uniform(-0.1, 0.1, (num_oscillators, num_oscillators))\n",
        "\n",
        "        # Output layer\n",
        "        self.W_out = np.random.normal(0, 0.1, (num_oscillators, 2)) # Final phases to class scores\n",
        "\n",
        "    def _temporal_pool(self, ecg_signal):\n",
        "        num_chunks = ecg_signal.shape[0] // self.chunk_size\n",
        "        pooled_signal = np.array([np.mean(chunk, axis=0) for chunk in np.array_split(ecg_signal, num_chunks)])\n",
        "        return pooled_signal\n",
        "\n",
        "    def kuramoto_dynamics(self, phases, coupling_strength=0.1):\n",
        "        phase_diffs = phases[:, None] - phases[None, :]\n",
        "        coupling = coupling_strength * np.sum(self.coupling_matrix * np.sin(phase_diffs), axis=1)\n",
        "        return self.frequencies + coupling\n",
        "\n",
        "    def forward_pass(self, ecg_signal):\n",
        "        pooled_input = self._temporal_pool(ecg_signal)\n",
        "        self.phases_history = [] # Store for backpropagation\n",
        "        phases = np.random.uniform(0, 2 * np.pi, self.num_oscillators)\n",
        "\n",
        "        for input_chunk in pooled_input:\n",
        "            input_influence = np.dot(input_chunk, self.W_xh)\n",
        "            recurrent_influence = np.dot(np.sin(phases), self.W_hh) # Use sin(phases) for bounded recurrence\n",
        "            kuramoto_influence = self.kuramoto_dynamics(phases)\n",
        "\n",
        "            # Update phases (Euler integration step)\n",
        "            phases += 0.01 * (input_influence + recurrent_influence + kuramoto_influence)\n",
        "            phases %= (2 * np.pi)\n",
        "            self.phases_history.append(phases.copy())\n",
        "\n",
        "        final_phases = self.phases_history[-1]\n",
        "        output_scores = np.dot(final_phases, self.W_out)\n",
        "\n",
        "        # Softmax for probabilities\n",
        "        e = np.exp(output_scores - np.max(output_scores))\n",
        "        probabilities = e / np.sum(e)\n",
        "\n",
        "        return probabilities, final_phases\n",
        "\n",
        "    def train_step(self, ecg_signal, target_label):\n",
        "        probabilities, final_phases = self.forward_pass(ecg_signal)\n",
        "        target_one_hot = np.zeros(2); target_one_hot[target_label] = 1\n",
        "\n",
        "        # Gradient of the loss w.r.t. the output scores\n",
        "        output_grad = probabilities - target_one_hot\n",
        "\n",
        "        # Backpropagate to output weights\n",
        "        grad_W_out = np.outer(final_phases, output_grad)\n",
        "        self.W_out -= self.lr * (grad_W_out + self.alpha * self.W_out)\n",
        "\n",
        "        # Backpropagate error to the final phase state\n",
        "        error_to_phases = np.dot(self.W_out, output_grad)\n",
        "\n",
        "        # Simplified BPTT: Update recurrent weights based on final error\n",
        "        prev_phases = self.phases_history[-2] if len(self.phases_history) > 1 else np.zeros_like(final_phases)\n",
        "        grad_W_hh = np.outer(np.sin(prev_phases), error_to_phases)\n",
        "        self.W_hh -= self.lr * (grad_W_hh + self.alpha * self.W_hh)\n",
        "\n",
        "        # Update input weights based on the influence of all inputs\n",
        "        avg_pooled_input = np.mean(self._temporal_pool(ecg_signal), axis=0)\n",
        "        grad_W_xh = np.outer(avg_pooled_input, error_to_phases)\n",
        "        self.W_xh -= self.lr * (grad_W_xh + self.alpha * self.W_xh)\n",
        "\n",
        "    def predict(self, ecg_signal):\n",
        "        probs, _ = self.forward_pass(ecg_signal)\n",
        "        return np.argmax(probs)\n",
        "\n",
        "# --- 3. Hyperparameter Search ---\n",
        "param_space = {\n",
        "    'num_oscillators': [4, 8, 12],\n",
        "    'lr': [0.01, 0.005, 0.001],\n",
        "    'alpha': [0.01, 0.001],\n",
        "    'chunk_size': [25, 50, 100] # Controls sequence length\n",
        "}\n",
        "num_trials = 20\n",
        "best_accuracy = -1\n",
        "best_params = {}\n",
        "\n",
        "for trial in range(num_trials):\n",
        "    params = {key: random.choice(values) for key, values in param_space.items()}\n",
        "    print(f\"\\nTrial {trial + 1}/{num_trials}: {params} ---\")\n",
        "\n",
        "    model = OscillatoryRNN(**params)\n",
        "    for epoch in range(15):\n",
        "        for i in np.random.permutation(len(X_train_scaled)):\n",
        "            model.train_step(X_train_scaled[i], y_train[i])\n",
        "\n",
        "    val_preds = [model.predict(x) for x in X_val_scaled]\n",
        "    accuracy = accuracy_score(y_val, val_preds)\n",
        "    print(f\"Validation Accuracy: {accuracy:.4f}\")\n",
        "\n",
        "    if accuracy > best_accuracy:\n",
        "        best_accuracy = accuracy\n",
        "        best_params = params\n",
        "\n",
        "print(f\"\\n\\n Best validation accuracy: {best_accuracy:.4f}\")\n",
        "print(f\"Best parameters found: {best_params}\")\n",
        "\n",
        "# --- 4. Train Final Model and Evaluate ---\n",
        "final_model = OscillatoryRNN(**best_params)\n",
        "X_train_full_scaled = scaler.fit_transform(X_train_full.reshape(-1, X_train_full.shape[-1])).reshape(X_train_full.shape)\n",
        "for epoch in range(40):\n",
        "    for i in tqdm(np.random.permutation(len(X_train_full_scaled)), desc=f\"Final Epoch {epoch+1}/40\"):\n",
        "        final_model.train_step(X_train_full_scaled[i], y_train_full[i])\n",
        "\n",
        "test_predictions = [final_model.predict(x) for x in tqdm(X_test_scaled, desc=\"Final Evaluation\")]\n",
        "final_accuracy = accuracy_score(y_test, test_predictions)\n",
        "print(f\"\\n Final ORNN Model Accuracy: {final_accuracy:.4f} ({final_accuracy*100:.2f}%)\")\n",
        "print(\"\\n Classification Report:\")\n",
        "print(classification_report(y_test, test_predictions, target_names=label_encoder.classes_))\n",
        "print(\"\\n Confusion Matrix:\")\n",
        "print(confusion_matrix(y_test, test_predictions))"
      ],
      "metadata": {
        "colab": {
          "base_uri": "https://localhost:8080/",
          "height": 1000,
          "referenced_widgets": [
            "c136633b7d7d4626b84310f648b9f134",
            "58e25aa93d0b4153a1cea953a36005d9",
            "5f1879a37ec14751b641c37ad9baed6d",
            "50c0fbdda26a4c57ac8590ca76d09ab3",
            "460f1f665b9c4918bba31bff714dd7be",
            "8f1c56ce0670433cb2d360e1016aa1ef",
            "ca4a6b2bc8f1482aae728437178c428d",
            "4a6bc5b0254842a4930f8b742ee3199f",
            "5c591fa7305047e285e24c7c4bad785e",
            "4526b9691c874938bba9f39f1911533e",
            "2bb1761251dc484a83b5efffc51b05fa",
            "d3d78ce1617342e3a52e9c483934e810",
            "f95ddb0418494c23b06374bb730af648",
            "248ecd0bc42f430eb09ad316823f7a63",
            "d588598bc5c24ebaaaa3fdf303e519cc",
            "23d6ae58f0634983bfe36b0ce3ea49c5",
            "5c4caea5e43e49fabcf3d25fb2b9e6eb",
            "d362a4bcfcd54d6fadaec04a84011d56",
            "0fb79b99d24c4ad1909104a7f2543498",
            "2bdca450865d42678f668b4957349a74",
            "f08c37122ac84a36a8f6ebdd797ff40f",
            "0dc1f61e1040481781bc46108875a566",
            "a820e055a6f5458d9b3450c36d33cf00",
            "076a591010d14f84ae191d82265dce30",
            "78eab2fa7ccf4f08b9884dcaf0cc4fe4",
            "014e4ca2bf164f78aa2a14d96275b451",
            "dc443df49e39423597b87d431d84c696",
            "a4784e2e4b4c4f5680a147ff1b78f80e",
            "438875b4390b45709ceabbf3c3604829",
            "0bea9fc285f74e0f955ec85c0bfbbfaf",
            "9c880ca8594a4926a74c1419922d13b4",
            "63b354e0b1334819828bca1a41a0ff99",
            "2f429aa8b4e44dc8a106427fc2ad2804",
            "faac30e0f8944009a75ba04b1bebb2b8",
            "d139d58396c94f079494242f78503e14",
            "195cbffe3e094db0a8a3b0ff0407db8f",
            "24db8f8d69a441b7aa9b9f5f5fd65494",
            "c8860b76c58d42f7a35114605ee677c1",
            "59f56d3c08e04e05b67be9c4c0d19fd7",
            "7a01a8ffd6654be2830d69a0d73597ea",
            "5a99b0bae57b427abb8ddab389869308",
            "784dce1661c3492c8d2473b148964906",
            "c959b45b95474c0eb1dc4483c65548c6",
            "fe5f28608aae4fe182cdf6bceca557bb",
            "ff48c8e53f404c20a8b9503f00d61047",
            "41f16bc251bf4a84a40f7ceb04fb61b8",
            "5d7279e7fe9a46f5a8e06964a03546ab",
            "c70e189ce3eb4c4ba33ac9b8afa83d45",
            "8e203b83449043a4a829c66d195f834f",
            "12ce4d9f3e884740b8d26d6de9037a9d",
            "940f7883198246f380022f60e254d655",
            "49e1a56aeffd4b8c80504b1bcd6ed824",
            "d65db3c02d6c4a0ebfca81ea4f30929e",
            "7bdbd82ab9874420be452f4f3b1e5c15",
            "0ce6859669f2479e8cc5709b0e646e08",
            "4b6764c6491b47938fae6dafd37b287a",
            "8a3b19beb07e41d59a52fd5812e0e7b5",
            "5533746ebcd64b81a4303c9847ff0768",
            "5cdfc94dcb8c44519dc7d3e81e543f81",
            "ca16196bb29d4639a71cf26ed5bad36e",
            "eb5322ba9b0448788d9a0fbc4f5ca321",
            "fb1a23d2368a4b70bc5bd350a679f1e1",
            "4d27e489aa58430b8a19a4476b2354e5",
            "70964ea46cfe4826a775929b003ef9b1",
            "2d2a3b84dfa442a4a8c2bae81c0908e7",
            "baa8659896fb4071b488b4b350738ddc",
            "4b359d3ec38041519bc0ab525dc6bfd1",
            "ee0badd2e40f49b882befabecd63125d",
            "7201348ae05f4aa9a54b3170cb95238a",
            "5b02b4a49f58410d906cc9743ade3dce",
            "c335fdc17b654c609e4c2d717af08206",
            "14a3a385ef254fd28c02737751636f33",
            "ce76a87e8f6f4a419a3f500b47b183cd",
            "19111d87fe7f484da84c6841ea7c36f4",
            "5ad7bc17465d4ca29920e5fcd4805582",
            "901477c2b31943549287bb2b2ca23e91",
            "4c35c079a81a4266af0ce5855e58405a",
            "fe9039bb509b4e4da51e8a35797b6384",
            "67964a83b136469799568d452dd0f769",
            "3b941178429b4224a04d3e36bb2bd3db",
            "42eadba53efc4411965413ed35be4bc5",
            "d1c31419256e4ba1803f935512debf4a",
            "4f3f6b94af8d413a990f80aa023665a8",
            "662b44ff35d1401185be194286cea740",
            "0a353d1973634d72852e2e701d8f3382",
            "65b918c468174adc84fded659dd26f70",
            "e2e715d598374c0b9e418cb1e12605a3",
            "cf010949823d40ccaf217cc7e94ccae6",
            "cec944e004cd4ae0a994b65b679f71f6",
            "d47e21dc35074227a56e09df80cfc2e1",
            "f9e84c8df4914814ac48e40afdd91d4b",
            "96d72fe3bef2467e96b017763a4eef0e",
            "a3adc92013854a91b4ee304383263fbb",
            "62a03eb808474f2ba2b68dddaa5ab0c1",
            "272b6d868e8341e7851c30193b9ba28b",
            "f3cd6a33a4b04e26805c06e88d300956",
            "95f3b3d108a046c4baa31df0be92a14d",
            "2d615ee8c45c42fe8b951e5a30ece68c",
            "ee7c91af93f84ac4863a0d8a54c36a64",
            "d64ad7d9f0404808bac4734a732e3ba1",
            "43923091ad354f4a82abaaa0f554c109",
            "618970243c004273bc185211ee9d49cc",
            "ca78db26142b449d85b4a2abdffb8d82",
            "19f888ddcc5e45ed8b0b3572562fce03",
            "10a793fdb5f343d7b384f030aceb1780",
            "5936abfe97e34abfa56ee2f4beb8c63a",
            "99f854b9d8354196917c0a82b812c63b",
            "812fe3467632426d99f32c1e15caa7b6",
            "4cc7d19857b4433590dcc8600df7e96a",
            "a50e510120c44297906b5ffa04ae707d",
            "a93c62e7fb9648bd8e66a0e0219100f0",
            "a846bcd6d5cf491ba3faaa6893e1bab3",
            "b6793aeebf3b4bd2bf4410ee08ceb6be",
            "8db7bdda853b431db4229a7516bb3207",
            "f9060c71332c4e3da34154e91663b38c",
            "fff61b6f5d7d4014b0adeaca60e2b9e0",
            "9049d350da9c444c8b1d7f308be71425",
            "ede654820aa14043aef6bcd22c69fc9c",
            "b0404d650522446ba2d20a859588fa26",
            "f9114d6279d64b87b171dbde5accddd0",
            "3be254813ce147169025c484c43766d3",
            "aa73615cd1064b29975cceb3be61a906",
            "04a219924fba46b1bc2e650b1f816876",
            "bc21df3401eb44daac4ceaaa03eecdbe",
            "666cb8f3f363413bbfd445714a96eb55",
            "50611380420d47e5bafd212da2016b60",
            "a46253e6bb94427b84be3846b05475fa",
            "d26f520ae92c4a42b1766bc19d9265f7",
            "3fb13b568d944d47bb220c529ea6a0d5",
            "1083c3b013974229b3acdc9ebbb234a2",
            "a6c8f0dbde064877a93d96addab146da",
            "c627d3d88ac240dbb0c12343047ce40c",
            "d0ab244fdd7f45a6a47782a7063e1cb5",
            "cffad997fea14a99b923af4c67cad2c8",
            "e1e29a78482645129dc2ef20e81773f3",
            "f7f32dc33d924ace9a534ade2dcc6d75",
            "0ae7bfb3e51e46b089c82ce01d1c4e51",
            "0d9ea41898b2489eb65d964126bda01e",
            "8c7341fc7319472c9abceabb03ecea18",
            "40f7489f406b4f67a85a50d85fd95858",
            "b03aea6f2dc54fd49013416ceba8896c",
            "6c5c3abca0bb4d7c8d63a6f6960bca19",
            "e2c798df7d55403489bcfc987576cee7",
            "db96eba9f234414793c2df24fbfe243e",
            "685ad5a6044b41c495cce6113f5590e5",
            "bc6df62e3f5047dbb1f37ab1ceb2dbea",
            "13c202c5fa26412e93ffdb8b8f98360f",
            "6ee2bc7f65074a78a7873c9b77354aec",
            "1aea4a9a79c74bb886873bee25578d45",
            "fad4ae9a3d99447a8315c0a3b8f98bae",
            "5b8a61cf01354c8ca5108fcd4c058243",
            "f1e9847f43474b148c35c7607d6cdaf2",
            "fa6b951e4aad40698c50bc68394a347c",
            "4923124fd1f8419ab5444dd54f221278",
            "1727cc33265c4a26a366c2d7fe61ac6e",
            "f38061dc9d2d4b8f89fff9e0706ee834",
            "cce248e8b62540ecbf9aeea34e0aa727",
            "5deed05b8b5940efbe29918ef34e562c",
            "347c265356734241b3d0883cd2ff3f37",
            "457c417ad5c140c0b67f7c21c9995b72",
            "397c9f3e422c4e2c82a138e2a88ecff3",
            "383383fd45ab4213b2d69d2d3b4339ae",
            "e25a6c77724b497a95f1ae3e9ff5d767",
            "3ec3b0ca622f4ce2ab343b176bcfa40d",
            "944cdfe7df5a454b8a94ecd5912a3692",
            "6f1b81d92a08449c86512504cab48b03",
            "e8715e227009495ba407bcf2b6c6992c",
            "7f37c455cfc242f1b9007fac514ea917",
            "d956fc09cb81434fb68f7acc15847485",
            "4c8744d7eb3640299042e6f3feb40a66",
            "ea0ec0b87a124fe1adc806685cd61f18",
            "d92ad758e4cd48b1aca777394a485cc3",
            "b3813490e3db4b2080fcd170be5733ab",
            "85c43f8c865a47eda12f54ac7cc668b8",
            "34adac5e5d9c4a0c9d5551e092e01d84",
            "75a65461601143b393c2d724e8804cc7",
            "f8ae8e7cacb74a84a3f4f240ad28b2ed",
            "d426bfb319814cf79f198be5e0bef924",
            "13fee853ab0049b097485cfa21b92a6b",
            "fe5b520d537e4502bdc87c2f83ca57e5",
            "76d346d863e447f4b51c125f61901ca0",
            "620ab3c2ed7e44c29907b08dbff2b935",
            "dc22e3e39ef84c5e81c9a1f5d4f67471",
            "91d625fa2481469ba45be1f3992962d4",
            "a3c5d1b9ac5140e688f688b992d1c00d",
            "6a3065133b004ff688bdd70249a5b674",
            "41cf9ed8a3d747cca3ca37af48211984",
            "ab1c90e1eac44f0f957003bf8aa5d7cb",
            "325d6ffb404344d0bdb3359748c730e7",
            "ca8f317411014a6f9555cc651e145e2a",
            "7b45290bb78045039e606d018b1c5a29",
            "df4c809843084bd590a947debc11f9bd",
            "55208e6ac3e74737b2c60be5a29beca7",
            "0d51d7f56fc54ba4b38a662d08714925",
            "3988a708112540c1b082f546547aa459",
            "4c94dea5a3964d84ab1c412bf7ce9b98",
            "9b77674f5582426580aeb7012c550c71",
            "c058c356bcbd4b4eac0f1d2d7750f42b",
            "9fead6d1ab08416ebaf5ba9d26525e82",
            "0651bbf238fb48d5a840cced1927223f",
            "34660b99d8c649a08adc295a500b7d06",
            "3f669019a9464d46bb6e84ff3992726f",
            "197dc33cc7234f23b712c629ebff92f7",
            "a159238a246c4942b0598c6e2b8f9c7a",
            "56cdb5766e304c11b558c56c57999c88",
            "4f2de0007e8f43af8bf9fabf3a3f51c1",
            "e05c3a3c49784e98917ac8f6165f6270",
            "dd0d332ed3754515842e4ab25a47bce6",
            "ab34372b20664234bf0846b0e26e8675",
            "d4e409ee28694b259b0bb7fe40bf3e13",
            "5a4289e0dd5449c8bbb5c11d5b963d48",
            "c41a5e80c2cf4ad8a86f8781f0bd41da",
            "b64a77252b464eadb498a5698d73276b",
            "f29d09a8de4a44678c462031cf8624d1",
            "230239274e3b4b79ba2f00077050c976",
            "ced0a8f7deb6438bab28f5f8010147aa",
            "51e49b0f626d4e28877f360b6e1de94c",
            "4fd6290e8e794ab6909c033726a28c4f",
            "4d95594678704e34b4bb2788e7ba0dea",
            "92fe4b04133d4bf4908a2259fbde46f8",
            "969ea60f25c34281b5a83a7feb393bfb",
            "3eeb0ddf5f4943f78792cc0c8e585a91",
            "a885ee5bccb44f8c9017ae2637837e9b",
            "a459aba8e7b24159ade57d32464ad093",
            "cdba5c555f8543dc9acc28554e9648ee",
            "b5da2263a2544b7b9c23b1bcd42c89ce",
            "522d2348435b4165b4056ab0112eab87",
            "44599c4ab7bf40d79f41ed9f7d153243",
            "8db4b912d5184985ad036e9183147f4b",
            "cc87fe61caa548218f0935e1c699eebb",
            "93491ec402a84010a28a3162a652e155",
            "4e6c5cfc921f47b3b11074851010e914",
            "d0b74a7287c34830bfd6d53b77bb8dff",
            "996a77b2c9874b04abfd0afe2966e7b4",
            "1ce3793b6b534f4ea100bfdc33fe12f7",
            "5908258ea5f44cd794fb5b30580b284f",
            "775d2a39eb4d4e36bd50d61badd048de",
            "3ca75aa5131541d0bac37d87ac9d4243",
            "ea431f59b2834a9aa7488b93c8b3a635",
            "a2dda55deba34b33912f329b1145c455",
            "7e8337e480134008af85b46e5f30814e",
            "6743a00326b14dc6ba5a56a868877b78",
            "d0aa113cc31f41dc84caf5d82cb06196",
            "1ede79e2d7d24aaeb01252897b97b14a",
            "4f4433d1b0644770b3a3e89789950aaf",
            "6ffda83ee2084fc9b04821345903202b",
            "71a713fac54a48729f1557ee00b99958",
            "6c7ea4017fce45a487675f25a06fe6c4",
            "f41731c1dcd2441ebc56a1219069a843",
            "ca3bca963b2a4fe29c3040c26d652c39",
            "1f3ef272e1264fc5ab0509de3300815d",
            "43be01a3e2d74d8c85594b19f77cfc35",
            "5fb2b4ea3a8344f088b818b805360927",
            "c89c684121144e50ab59cf55f43a4588",
            "8add5c3b2ee5424390c97985a63aea0b",
            "33965f93b3e04c80928c8e8a427bedf9",
            "03c75e37abbe4638b18b662e8ea833ad",
            "9d3ff0932b2c4061a5d4cc54376c9d30",
            "8b8ad9575ade41f5923e9f0ef7e3b5b5",
            "4e6aaf4eacfd43d1bbdfba7a90ae6335",
            "95162e3967904499afc66b5e00c0f897",
            "195ec451d10c45f19a4b0da6b49512b4",
            "fbe5ce99ed9f4c8b9a9e670d016e477e",
            "78d1f002bd564b458e84c3d908d42963",
            "8da640c90b914d4a8a2882fcec796ac6",
            "33c2ca21107e4f5aa8bbe5ffd9d261db",
            "8d9555edb35a406a8fb63b82fd27b51b",
            "a65debcc3a2c4d5881d3d16803800633",
            "4a4dd71df6ec42bba8278313caab6e5e",
            "061b030fd7004bbe9834ad099492f6d9",
            "29471c90e6d54ef8ad5a55bc0df7a22f",
            "3bbd808da3124646b4ee3c8dddf32c66",
            "c51bc1e60721455e97c40b1df3ee7022",
            "42622cdc8be143c4a4521c4ae55cf114",
            "33f370706123427283c2f5aec4316df9",
            "16896e73590a485a97f7fa4a7b9e9445",
            "f692c8bd3f87465fad1854464da70315",
            "99f4498d814a4eb6a4c5756abae5e7e0",
            "dbec862983714818a4bd81111a5a7939",
            "7782f5f815a54a21955247150c6ad4b4",
            "74745468993d4def8c04a936d0d3c3e0",
            "062f301a88144ca8b06e68f02ce41a73",
            "d4067ab1229c40b597da6b9633a08849",
            "d5d0e6401b094b76a3322c1fb79815bd",
            "86ab6ff81a1e4d949313ac5cc7e7dd47",
            "415b26988224499eba5613f2be1f2d99",
            "ce6926638a77423ebed74618352475ff",
            "9f5e3ecffc5c4ecbb26fb42e8c68fb9a",
            "1272439340ec4f0b9258082d7ebc428e",
            "0dcfa4c142dd45bfb8827bde02ee20a5",
            "5edf913bfcbf4863b72ff8217d0fd747",
            "7815903d12ec440eb6fba5eb3657785b",
            "1bfb513093094a2689487c1ea1dad075",
            "ab8b2e04783742c9bef835e2140c9865",
            "b6271d2fe87b4af994cf8a2f8a7cab42",
            "f8d428b72a47422283561bc67eed2506",
            "d11262a0daf24162b4a143e7e92e8618",
            "28745590b1344b7a8a583d3b6b463944",
            "0d9e6ea49624488baee15a2c5c4cc7a0",
            "a1dd413be28d435e8ed180f4663ff331",
            "6449a4ece9244b089674e7de413f4ed7",
            "3997939fd38b40598ecf20da1d51ab54",
            "5752ac0805414d118fcb8e1fa2c3a141",
            "fb9af5f35d044f6bb5bb87766af175e1",
            "b22545d329cf43e0966f6801d68338de",
            "768c0fb0cb124a7183e02e91297abf6b",
            "a3f177589f7c4d1ea336fcbf8fdfa1c5",
            "8c6e9990debd47d4bba045280f37982c",
            "26c82afb16ad4d149f11067eb3a839b5",
            "ce8bc24f158e4292bbf78c1b93937255",
            "a0d920529fcb435381661c572b482435",
            "df7d8c0e203545d3a201e2de82f4c18c",
            "005edc08229d4d37a9663b9579b5e309",
            "b49d2c0e97fd4dfdb136d4e649b88e75",
            "daca4635fe4148b4b5f21e0fc61488a5",
            "6d90b4a0391942058aa356b33e046222",
            "14e261406d3a4d5fb516c033e9618e14",
            "f0ac3eee82a340b8a545c005840761d3",
            "6a52e7223456417b991ba85102295afc",
            "2965cd71ce52471db2f8d2456fafd92c",
            "7069dacd97534bc6b5595ffa3f56392d",
            "48996cc4a5bb49eebe0f09f92c586b42",
            "9e645ae6737149358ce66b71f739c6ed",
            "0824a30b0c884989ad4351b482358523",
            "80b86241d248444e9a6aab2a67b03506",
            "30d91c22188d425a8900274ef275cbc0",
            "67731a0ea4834d988410034363cb36bb",
            "b0e30e3d5ebc4f22be4b88aafd463f1e",
            "f362ec511ead46b4bdbcd5aea138c05e",
            "5fbef73f397b4ff1b5be508a2bee91ae",
            "cfd4fddf43e348ebb45d11b8517f2c25",
            "b0f66e2a2f1b437ead9aa8f4b441bf7e",
            "c13782e88bb74da39f2768ab3986ebbb",
            "929348306de04d3b989450fdd2460bfc",
            "8ac95b084d824097b58a290fa8026a5b",
            "0b13403f454a447ebe2f7ab73eea7a6d",
            "c147a2b9b08348e9bb525b6b543c73cb",
            "1a99afd58acf4e75bd0a3551f783f134",
            "e221448b54d8440eabaa4f047b2179ca",
            "93ee30b49dd947b7bb977bc3f0186256",
            "935913a0a4b04eb19ab5d605f15f030b",
            "3e69c51b6d29418d8df7e745471c3dfe",
            "1f6777d404a34dafb77b112e6697c4be",
            "08e19a01a2874ecc9e6df3316c34544a",
            "0ef4e1bed7504389b7a2dd5caf974c94",
            "f87da5252a6946a2a0f5250a2a8ef37e",
            "0df92679e4f44e7fa6a0e161c76efeda",
            "0172d092273c4ab0ab687583fe303d9c",
            "fb4c5a4fa8f74685aefb41ac9368aac5",
            "aa9906d5c46845608ece2d950486d01b",
            "57f05c8660d1448191b5d0d4b5dc8cfd",
            "1a9288ec188247a8bb9ff42a258bfda2",
            "d043c4bbb0f443b79e6846cac866e396",
            "93261927c9294f66bde0fba8750f0007",
            "03a65e8abf5c4561b3d1ad0bb98c1fb8",
            "31bd1b7c148b45048535401f4e2f70d8",
            "a866b533bd4c4b9696585bb3fba70416",
            "bba84d52f25f45fe998b4101c0476688",
            "39e88acbf0d84e9bba2d2c529b16b2e7",
            "90b03940d77043d8aff07259f3751cc7",
            "7686b4c176d846aa8d934386e06f9004",
            "a38602838a5d432b8c742a98c4c9cd43",
            "1ab68cec071b43099d97b5960bc0b4c7",
            "8d48802d55ea4afe836e5087b03609f1",
            "600d9dc9c93f4203aef4a82da8e0757f",
            "0730680921c24bebbbf6178dd18bfe26",
            "39745b079cc242d2bb1839d06f4d4653",
            "a56023f055384dc69bed932afdf3c770",
            "38f1e2a2a6db48abb14d8c17e630ee4c",
            "b54e182b447e451897f9b06bef28571e",
            "1c12ec55d3e340b987781d222dc266fb",
            "2ccfc666ce93440f8113a523cebe718c",
            "7d617737b97049f8a86339cc4c106e35",
            "6c9e3f16bffd4002865d3dd8157c74b3",
            "3bc6e5e2a5644a1c88ca8dbe0e9608fd",
            "da4c6541c01c4908bdf5522ec1ecf547",
            "6aaeac659a464b428a35388211e39e1e",
            "e501c36690064ff1b2b581b722dcf56d",
            "787f58f5aa114842b5a5ddd1c04d3a78",
            "92b54752c4ef4a1ca747415692f7c2a6",
            "a5868644642244f8a102e517a9998001",
            "db7effeb0f1f44b7b5a7df3f3748fcb2",
            "ed4d04afbba34403a2d604fd968423b4",
            "39b37a9571a948eaaa03d38adcb8e18a",
            "10ae1e369de943f1805f71c9b6e4673b",
            "35fa2ab9fd124a82a547eff205aeaa9e",
            "91adc054babc4183b7499640b1adbfed",
            "aa895f50afc248389ac62891aa4837fc",
            "8fc69c2b1a5c40ee9a01e4360cfb92b9",
            "2dc5e9892c1644a6a80c47e18929ea99",
            "63d712e59a2341b8a45c947f3454daed",
            "faf376fb8b924782b152692f2a40e093",
            "37ae339dbbe041d49b687bb872bb09b5",
            "ffae02e1aa5743dc8e62ab575beb699e",
            "9a1f1c4fd8964542972f05ee757bb955",
            "d70916acb3f344ab8838d335ae4130f7",
            "2d1692b375434a5f93cbf70ec11c5ea7",
            "4cefc1fdba564f70bfc1f1169a311d38",
            "5f3a7a3c176f4e209c2fb77c6863b9db",
            "9a98a2a56e474d60ac1c667bbe7c3ace",
            "5e2f134113a24bcb8839b4d57e6a688d",
            "a2ec1586da124fd0bd17eb65d14dda57",
            "5b1ddd3d7e2f4080af02bd32ef6ea2c4",
            "734de90a99d342ca97d0d0678a782eec",
            "87e553e97282417395c968306fa9a810",
            "069eb2ef95f44623b6e8cbcf3f267d65",
            "05bc58b3740349a08d1839a22c046962",
            "28a78665383c4aa3af226ea9f2884891",
            "94a4e55c0f8846b38ae72d255a4e84f5",
            "a987e36d4c5a48e6b21ca07fe96579d7",
            "c14a4ce3ca1f4a9980bac2f857f34e70",
            "ed52a24e825645d68c9bdb1dcc60833b",
            "0ee4bddb30ab4322a5c1a377d1a212bd",
            "6f91b7f3410d4061bab41d7b308211a6",
            "f69e2ab6d459436096acaa554fac069d",
            "7ad792aeb3484a16898f56f5d3ae2225",
            "a337f8ed691a44d0a019224cb5dfcfe1",
            "91c716d0c7924c93b73df725410df917",
            "c2e2eca4dfb14c9789e9eb3b388552f9",
            "7f489f325b7149eda36dab544834713e",
            "0d901a5718e04f61809334dad266aa64",
            "aa447e8688484792b7418508a2e68d77",
            "e42940c68b1f4ef3bd3c1ad3ddb15979",
            "d4e520838df54ee48a2caf65e9eb22c1",
            "1b2552125912422197fd242789e139ca",
            "9e62fa7fe0344e8ab4f7d7cb54e23422",
            "96d6e2a0481c452c98c9e75210dc1eab",
            "d3a805cbd6064a3ca530b0f7fcf42213",
            "a496a3668d4c41ad8bac3dff3ed404b3",
            "8df5fafc8c3b493ca5cb42022abdfe2f",
            "08b87d7890f94d999c25835d76b862a0",
            "0f6379957e8a4f30a436df67e98756cd",
            "97e12f79ca6d439bac292aa2335f9259",
            "fea8dcabe508476ab1ad1eb800735454",
            "2b3bc580edde477db6d667581305ccf5",
            "aa640fb757f94243ad8ca93cc13bb880",
            "953c2d067d084d49b82690538396b3f9",
            "3bdf3b75f293428f95ab08942ccb845f",
            "c1da7738b74e4c4e852b0e78187315d3",
            "5439c77fbe524cd3ab92c1a02a5ff7f5",
            "01e7c9c2416d45c2acb0cd3b7fb3776b",
            "314378699fea4a06b366eec6bb363589",
            "ff776901f67e429bb3f77f24fc5835e8",
            "881b83a71f54425093582957fa6c04b5",
            "546d3db05e454d42a4ea3ae28e274cc0",
            "f84ad8d999a04ee7b61b11bc57db8ea7",
            "8c7c8f2a2c8142c98c4c2726aba867e0",
            "148725f6664c446d8f091552fad34245",
            "bf48f2130ec44b16aa0d8d8462fd35dc",
            "7fe15f7b7fb64e8ea7e282d1c3b9b089",
            "a1497e1e4d1e402f8f0e14f09782661d"
          ]
        },
        "id": "VDmE5b7MYDfG",
        "outputId": "1ca99fc3-e6ae-4a32-908c-5f3653502d1b"
      },
      "execution_count": 10,
      "outputs": [
        {
          "output_type": "stream",
          "name": "stdout",
          "text": [
            "✅ Data prepared. Shapes: Train=(29, 5000, 12), Val=(10, 5000, 12), Test=(18, 5000, 12)\n",
            "\n",
            "Trial 1/20: {'num_oscillators': 4, 'lr': 0.005, 'alpha': 0.001, 'chunk_size': 100} ---\n",
            "Validation Accuracy: 0.5000\n",
            "\n",
            "Trial 2/20: {'num_oscillators': 4, 'lr': 0.005, 'alpha': 0.01, 'chunk_size': 25} ---\n",
            "Validation Accuracy: 0.5000\n",
            "\n",
            "Trial 3/20: {'num_oscillators': 4, 'lr': 0.01, 'alpha': 0.01, 'chunk_size': 50} ---\n",
            "Validation Accuracy: 0.4000\n",
            "\n",
            "Trial 4/20: {'num_oscillators': 12, 'lr': 0.01, 'alpha': 0.01, 'chunk_size': 100} ---\n",
            "Validation Accuracy: 0.6000\n",
            "\n",
            "Trial 5/20: {'num_oscillators': 8, 'lr': 0.001, 'alpha': 0.01, 'chunk_size': 25} ---\n",
            "Validation Accuracy: 0.5000\n",
            "\n",
            "Trial 6/20: {'num_oscillators': 4, 'lr': 0.005, 'alpha': 0.01, 'chunk_size': 25} ---\n",
            "Validation Accuracy: 0.5000\n",
            "\n",
            "Trial 7/20: {'num_oscillators': 4, 'lr': 0.01, 'alpha': 0.001, 'chunk_size': 100} ---\n",
            "Validation Accuracy: 0.5000\n",
            "\n",
            "Trial 8/20: {'num_oscillators': 8, 'lr': 0.001, 'alpha': 0.001, 'chunk_size': 100} ---\n",
            "Validation Accuracy: 0.6000\n",
            "\n",
            "Trial 9/20: {'num_oscillators': 4, 'lr': 0.001, 'alpha': 0.001, 'chunk_size': 25} ---\n",
            "Validation Accuracy: 0.5000\n",
            "\n",
            "Trial 10/20: {'num_oscillators': 8, 'lr': 0.005, 'alpha': 0.01, 'chunk_size': 25} ---\n",
            "Validation Accuracy: 0.5000\n",
            "\n",
            "Trial 11/20: {'num_oscillators': 4, 'lr': 0.001, 'alpha': 0.001, 'chunk_size': 25} ---\n",
            "Validation Accuracy: 0.6000\n",
            "\n",
            "Trial 12/20: {'num_oscillators': 4, 'lr': 0.01, 'alpha': 0.001, 'chunk_size': 100} ---\n",
            "Validation Accuracy: 0.5000\n",
            "\n",
            "Trial 13/20: {'num_oscillators': 8, 'lr': 0.005, 'alpha': 0.01, 'chunk_size': 100} ---\n",
            "Validation Accuracy: 0.7000\n",
            "\n",
            "Trial 14/20: {'num_oscillators': 12, 'lr': 0.01, 'alpha': 0.01, 'chunk_size': 25} ---\n",
            "Validation Accuracy: 0.6000\n",
            "\n",
            "Trial 15/20: {'num_oscillators': 4, 'lr': 0.01, 'alpha': 0.01, 'chunk_size': 50} ---\n",
            "Validation Accuracy: 0.5000\n",
            "\n",
            "Trial 16/20: {'num_oscillators': 4, 'lr': 0.005, 'alpha': 0.01, 'chunk_size': 50} ---\n",
            "Validation Accuracy: 0.6000\n",
            "\n",
            "Trial 17/20: {'num_oscillators': 8, 'lr': 0.001, 'alpha': 0.001, 'chunk_size': 25} ---\n",
            "Validation Accuracy: 0.5000\n",
            "\n",
            "Trial 18/20: {'num_oscillators': 4, 'lr': 0.001, 'alpha': 0.001, 'chunk_size': 100} ---\n",
            "Validation Accuracy: 0.3000\n",
            "\n",
            "Trial 19/20: {'num_oscillators': 8, 'lr': 0.001, 'alpha': 0.01, 'chunk_size': 25} ---\n",
            "Validation Accuracy: 0.6000\n",
            "\n",
            "Trial 20/20: {'num_oscillators': 8, 'lr': 0.001, 'alpha': 0.01, 'chunk_size': 25} ---\n",
            "Validation Accuracy: 0.5000\n",
            "\n",
            "\n",
            " Best validation accuracy: 0.7000\n",
            "Best parameters found: {'num_oscillators': 8, 'lr': 0.005, 'alpha': 0.01, 'chunk_size': 100}\n"
          ]
        },
        {
          "output_type": "display_data",
          "data": {
            "text/plain": [
              "Final Epoch 1/40:   0%|          | 0/39 [00:00<?, ?it/s]"
            ],
            "application/vnd.jupyter.widget-view+json": {
              "version_major": 2,
              "version_minor": 0,
              "model_id": "c136633b7d7d4626b84310f648b9f134"
            }
          },
          "metadata": {}
        },
        {
          "output_type": "display_data",
          "data": {
            "text/plain": [
              "Final Epoch 2/40:   0%|          | 0/39 [00:00<?, ?it/s]"
            ],
            "application/vnd.jupyter.widget-view+json": {
              "version_major": 2,
              "version_minor": 0,
              "model_id": "d3d78ce1617342e3a52e9c483934e810"
            }
          },
          "metadata": {}
        },
        {
          "output_type": "display_data",
          "data": {
            "text/plain": [
              "Final Epoch 3/40:   0%|          | 0/39 [00:00<?, ?it/s]"
            ],
            "application/vnd.jupyter.widget-view+json": {
              "version_major": 2,
              "version_minor": 0,
              "model_id": "a820e055a6f5458d9b3450c36d33cf00"
            }
          },
          "metadata": {}
        },
        {
          "output_type": "display_data",
          "data": {
            "text/plain": [
              "Final Epoch 4/40:   0%|          | 0/39 [00:00<?, ?it/s]"
            ],
            "application/vnd.jupyter.widget-view+json": {
              "version_major": 2,
              "version_minor": 0,
              "model_id": "faac30e0f8944009a75ba04b1bebb2b8"
            }
          },
          "metadata": {}
        },
        {
          "output_type": "display_data",
          "data": {
            "text/plain": [
              "Final Epoch 5/40:   0%|          | 0/39 [00:00<?, ?it/s]"
            ],
            "application/vnd.jupyter.widget-view+json": {
              "version_major": 2,
              "version_minor": 0,
              "model_id": "ff48c8e53f404c20a8b9503f00d61047"
            }
          },
          "metadata": {}
        },
        {
          "output_type": "display_data",
          "data": {
            "text/plain": [
              "Final Epoch 6/40:   0%|          | 0/39 [00:00<?, ?it/s]"
            ],
            "application/vnd.jupyter.widget-view+json": {
              "version_major": 2,
              "version_minor": 0,
              "model_id": "4b6764c6491b47938fae6dafd37b287a"
            }
          },
          "metadata": {}
        },
        {
          "output_type": "display_data",
          "data": {
            "text/plain": [
              "Final Epoch 7/40:   0%|          | 0/39 [00:00<?, ?it/s]"
            ],
            "application/vnd.jupyter.widget-view+json": {
              "version_major": 2,
              "version_minor": 0,
              "model_id": "4b359d3ec38041519bc0ab525dc6bfd1"
            }
          },
          "metadata": {}
        },
        {
          "output_type": "display_data",
          "data": {
            "text/plain": [
              "Final Epoch 8/40:   0%|          | 0/39 [00:00<?, ?it/s]"
            ],
            "application/vnd.jupyter.widget-view+json": {
              "version_major": 2,
              "version_minor": 0,
              "model_id": "fe9039bb509b4e4da51e8a35797b6384"
            }
          },
          "metadata": {}
        },
        {
          "output_type": "display_data",
          "data": {
            "text/plain": [
              "Final Epoch 9/40:   0%|          | 0/39 [00:00<?, ?it/s]"
            ],
            "application/vnd.jupyter.widget-view+json": {
              "version_major": 2,
              "version_minor": 0,
              "model_id": "cec944e004cd4ae0a994b65b679f71f6"
            }
          },
          "metadata": {}
        },
        {
          "output_type": "display_data",
          "data": {
            "text/plain": [
              "Final Epoch 10/40:   0%|          | 0/39 [00:00<?, ?it/s]"
            ],
            "application/vnd.jupyter.widget-view+json": {
              "version_major": 2,
              "version_minor": 0,
              "model_id": "d64ad7d9f0404808bac4734a732e3ba1"
            }
          },
          "metadata": {}
        },
        {
          "output_type": "display_data",
          "data": {
            "text/plain": [
              "Final Epoch 11/40:   0%|          | 0/39 [00:00<?, ?it/s]"
            ],
            "application/vnd.jupyter.widget-view+json": {
              "version_major": 2,
              "version_minor": 0,
              "model_id": "a93c62e7fb9648bd8e66a0e0219100f0"
            }
          },
          "metadata": {}
        },
        {
          "output_type": "display_data",
          "data": {
            "text/plain": [
              "Final Epoch 12/40:   0%|          | 0/39 [00:00<?, ?it/s]"
            ],
            "application/vnd.jupyter.widget-view+json": {
              "version_major": 2,
              "version_minor": 0,
              "model_id": "aa73615cd1064b29975cceb3be61a906"
            }
          },
          "metadata": {}
        },
        {
          "output_type": "display_data",
          "data": {
            "text/plain": [
              "Final Epoch 13/40:   0%|          | 0/39 [00:00<?, ?it/s]"
            ],
            "application/vnd.jupyter.widget-view+json": {
              "version_major": 2,
              "version_minor": 0,
              "model_id": "d0ab244fdd7f45a6a47782a7063e1cb5"
            }
          },
          "metadata": {}
        },
        {
          "output_type": "display_data",
          "data": {
            "text/plain": [
              "Final Epoch 14/40:   0%|          | 0/39 [00:00<?, ?it/s]"
            ],
            "application/vnd.jupyter.widget-view+json": {
              "version_major": 2,
              "version_minor": 0,
              "model_id": "db96eba9f234414793c2df24fbfe243e"
            }
          },
          "metadata": {}
        },
        {
          "output_type": "display_data",
          "data": {
            "text/plain": [
              "Final Epoch 15/40:   0%|          | 0/39 [00:00<?, ?it/s]"
            ],
            "application/vnd.jupyter.widget-view+json": {
              "version_major": 2,
              "version_minor": 0,
              "model_id": "1727cc33265c4a26a366c2d7fe61ac6e"
            }
          },
          "metadata": {}
        },
        {
          "output_type": "display_data",
          "data": {
            "text/plain": [
              "Final Epoch 16/40:   0%|          | 0/39 [00:00<?, ?it/s]"
            ],
            "application/vnd.jupyter.widget-view+json": {
              "version_major": 2,
              "version_minor": 0,
              "model_id": "6f1b81d92a08449c86512504cab48b03"
            }
          },
          "metadata": {}
        },
        {
          "output_type": "display_data",
          "data": {
            "text/plain": [
              "Final Epoch 17/40:   0%|          | 0/39 [00:00<?, ?it/s]"
            ],
            "application/vnd.jupyter.widget-view+json": {
              "version_major": 2,
              "version_minor": 0,
              "model_id": "f8ae8e7cacb74a84a3f4f240ad28b2ed"
            }
          },
          "metadata": {}
        },
        {
          "output_type": "display_data",
          "data": {
            "text/plain": [
              "Final Epoch 18/40:   0%|          | 0/39 [00:00<?, ?it/s]"
            ],
            "application/vnd.jupyter.widget-view+json": {
              "version_major": 2,
              "version_minor": 0,
              "model_id": "ab1c90e1eac44f0f957003bf8aa5d7cb"
            }
          },
          "metadata": {}
        },
        {
          "output_type": "display_data",
          "data": {
            "text/plain": [
              "Final Epoch 19/40:   0%|          | 0/39 [00:00<?, ?it/s]"
            ],
            "application/vnd.jupyter.widget-view+json": {
              "version_major": 2,
              "version_minor": 0,
              "model_id": "9fead6d1ab08416ebaf5ba9d26525e82"
            }
          },
          "metadata": {}
        },
        {
          "output_type": "display_data",
          "data": {
            "text/plain": [
              "Final Epoch 20/40:   0%|          | 0/39 [00:00<?, ?it/s]"
            ],
            "application/vnd.jupyter.widget-view+json": {
              "version_major": 2,
              "version_minor": 0,
              "model_id": "d4e409ee28694b259b0bb7fe40bf3e13"
            }
          },
          "metadata": {}
        },
        {
          "output_type": "display_data",
          "data": {
            "text/plain": [
              "Final Epoch 21/40:   0%|          | 0/39 [00:00<?, ?it/s]"
            ],
            "application/vnd.jupyter.widget-view+json": {
              "version_major": 2,
              "version_minor": 0,
              "model_id": "969ea60f25c34281b5a83a7feb393bfb"
            }
          },
          "metadata": {}
        },
        {
          "output_type": "display_data",
          "data": {
            "text/plain": [
              "Final Epoch 22/40:   0%|          | 0/39 [00:00<?, ?it/s]"
            ],
            "application/vnd.jupyter.widget-view+json": {
              "version_major": 2,
              "version_minor": 0,
              "model_id": "4e6c5cfc921f47b3b11074851010e914"
            }
          },
          "metadata": {}
        },
        {
          "output_type": "display_data",
          "data": {
            "text/plain": [
              "Final Epoch 23/40:   0%|          | 0/39 [00:00<?, ?it/s]"
            ],
            "application/vnd.jupyter.widget-view+json": {
              "version_major": 2,
              "version_minor": 0,
              "model_id": "d0aa113cc31f41dc84caf5d82cb06196"
            }
          },
          "metadata": {}
        },
        {
          "output_type": "display_data",
          "data": {
            "text/plain": [
              "Final Epoch 24/40:   0%|          | 0/39 [00:00<?, ?it/s]"
            ],
            "application/vnd.jupyter.widget-view+json": {
              "version_major": 2,
              "version_minor": 0,
              "model_id": "c89c684121144e50ab59cf55f43a4588"
            }
          },
          "metadata": {}
        },
        {
          "output_type": "display_data",
          "data": {
            "text/plain": [
              "Final Epoch 25/40:   0%|          | 0/39 [00:00<?, ?it/s]"
            ],
            "application/vnd.jupyter.widget-view+json": {
              "version_major": 2,
              "version_minor": 0,
              "model_id": "8da640c90b914d4a8a2882fcec796ac6"
            }
          },
          "metadata": {}
        },
        {
          "output_type": "display_data",
          "data": {
            "text/plain": [
              "Final Epoch 26/40:   0%|          | 0/39 [00:00<?, ?it/s]"
            ],
            "application/vnd.jupyter.widget-view+json": {
              "version_major": 2,
              "version_minor": 0,
              "model_id": "16896e73590a485a97f7fa4a7b9e9445"
            }
          },
          "metadata": {}
        },
        {
          "output_type": "display_data",
          "data": {
            "text/plain": [
              "Final Epoch 27/40:   0%|          | 0/39 [00:00<?, ?it/s]"
            ],
            "application/vnd.jupyter.widget-view+json": {
              "version_major": 2,
              "version_minor": 0,
              "model_id": "ce6926638a77423ebed74618352475ff"
            }
          },
          "metadata": {}
        },
        {
          "output_type": "display_data",
          "data": {
            "text/plain": [
              "Final Epoch 28/40:   0%|          | 0/39 [00:00<?, ?it/s]"
            ],
            "application/vnd.jupyter.widget-view+json": {
              "version_major": 2,
              "version_minor": 0,
              "model_id": "28745590b1344b7a8a583d3b6b463944"
            }
          },
          "metadata": {}
        },
        {
          "output_type": "display_data",
          "data": {
            "text/plain": [
              "Final Epoch 29/40:   0%|          | 0/39 [00:00<?, ?it/s]"
            ],
            "application/vnd.jupyter.widget-view+json": {
              "version_major": 2,
              "version_minor": 0,
              "model_id": "26c82afb16ad4d149f11067eb3a839b5"
            }
          },
          "metadata": {}
        },
        {
          "output_type": "display_data",
          "data": {
            "text/plain": [
              "Final Epoch 30/40:   0%|          | 0/39 [00:00<?, ?it/s]"
            ],
            "application/vnd.jupyter.widget-view+json": {
              "version_major": 2,
              "version_minor": 0,
              "model_id": "2965cd71ce52471db2f8d2456fafd92c"
            }
          },
          "metadata": {}
        },
        {
          "output_type": "display_data",
          "data": {
            "text/plain": [
              "Final Epoch 31/40:   0%|          | 0/39 [00:00<?, ?it/s]"
            ],
            "application/vnd.jupyter.widget-view+json": {
              "version_major": 2,
              "version_minor": 0,
              "model_id": "cfd4fddf43e348ebb45d11b8517f2c25"
            }
          },
          "metadata": {}
        },
        {
          "output_type": "display_data",
          "data": {
            "text/plain": [
              "Final Epoch 32/40:   0%|          | 0/39 [00:00<?, ?it/s]"
            ],
            "application/vnd.jupyter.widget-view+json": {
              "version_major": 2,
              "version_minor": 0,
              "model_id": "3e69c51b6d29418d8df7e745471c3dfe"
            }
          },
          "metadata": {}
        },
        {
          "output_type": "display_data",
          "data": {
            "text/plain": [
              "Final Epoch 33/40:   0%|          | 0/39 [00:00<?, ?it/s]"
            ],
            "application/vnd.jupyter.widget-view+json": {
              "version_major": 2,
              "version_minor": 0,
              "model_id": "d043c4bbb0f443b79e6846cac866e396"
            }
          },
          "metadata": {}
        },
        {
          "output_type": "display_data",
          "data": {
            "text/plain": [
              "Final Epoch 34/40:   0%|          | 0/39 [00:00<?, ?it/s]"
            ],
            "application/vnd.jupyter.widget-view+json": {
              "version_major": 2,
              "version_minor": 0,
              "model_id": "8d48802d55ea4afe836e5087b03609f1"
            }
          },
          "metadata": {}
        },
        {
          "output_type": "display_data",
          "data": {
            "text/plain": [
              "Final Epoch 35/40:   0%|          | 0/39 [00:00<?, ?it/s]"
            ],
            "application/vnd.jupyter.widget-view+json": {
              "version_major": 2,
              "version_minor": 0,
              "model_id": "3bc6e5e2a5644a1c88ca8dbe0e9608fd"
            }
          },
          "metadata": {}
        },
        {
          "output_type": "display_data",
          "data": {
            "text/plain": [
              "Final Epoch 36/40:   0%|          | 0/39 [00:00<?, ?it/s]"
            ],
            "application/vnd.jupyter.widget-view+json": {
              "version_major": 2,
              "version_minor": 0,
              "model_id": "35fa2ab9fd124a82a547eff205aeaa9e"
            }
          },
          "metadata": {}
        },
        {
          "output_type": "display_data",
          "data": {
            "text/plain": [
              "Final Epoch 37/40:   0%|          | 0/39 [00:00<?, ?it/s]"
            ],
            "application/vnd.jupyter.widget-view+json": {
              "version_major": 2,
              "version_minor": 0,
              "model_id": "2d1692b375434a5f93cbf70ec11c5ea7"
            }
          },
          "metadata": {}
        },
        {
          "output_type": "display_data",
          "data": {
            "text/plain": [
              "Final Epoch 38/40:   0%|          | 0/39 [00:00<?, ?it/s]"
            ],
            "application/vnd.jupyter.widget-view+json": {
              "version_major": 2,
              "version_minor": 0,
              "model_id": "28a78665383c4aa3af226ea9f2884891"
            }
          },
          "metadata": {}
        },
        {
          "output_type": "display_data",
          "data": {
            "text/plain": [
              "Final Epoch 39/40:   0%|          | 0/39 [00:00<?, ?it/s]"
            ],
            "application/vnd.jupyter.widget-view+json": {
              "version_major": 2,
              "version_minor": 0,
              "model_id": "c2e2eca4dfb14c9789e9eb3b388552f9"
            }
          },
          "metadata": {}
        },
        {
          "output_type": "display_data",
          "data": {
            "text/plain": [
              "Final Epoch 40/40:   0%|          | 0/39 [00:00<?, ?it/s]"
            ],
            "application/vnd.jupyter.widget-view+json": {
              "version_major": 2,
              "version_minor": 0,
              "model_id": "8df5fafc8c3b493ca5cb42022abdfe2f"
            }
          },
          "metadata": {}
        },
        {
          "output_type": "display_data",
          "data": {
            "text/plain": [
              "Final Evaluation:   0%|          | 0/18 [00:00<?, ?it/s]"
            ],
            "application/vnd.jupyter.widget-view+json": {
              "version_major": 2,
              "version_minor": 0,
              "model_id": "01e7c9c2416d45c2acb0cd3b7fb3776b"
            }
          },
          "metadata": {}
        },
        {
          "output_type": "stream",
          "name": "stdout",
          "text": [
            "\n",
            " Final ORNN Model Accuracy: 0.5556 (55.56%)\n",
            "\n",
            " Classification Report:\n",
            "              precision    recall  f1-score   support\n",
            "\n",
            "     athlete       0.67      0.22      0.33         9\n",
            "         hcm       0.53      0.89      0.67         9\n",
            "\n",
            "    accuracy                           0.56        18\n",
            "   macro avg       0.60      0.56      0.50        18\n",
            "weighted avg       0.60      0.56      0.50        18\n",
            "\n",
            "\n",
            " Confusion Matrix:\n",
            "[[2 7]\n",
            " [1 8]]\n"
          ]
        }
      ]
    }
  ]
}